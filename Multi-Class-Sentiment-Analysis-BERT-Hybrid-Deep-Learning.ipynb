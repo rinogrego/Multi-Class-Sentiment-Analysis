{
  "nbformat": 4,
  "nbformat_minor": 0,
  "metadata": {
    "colab": {
      "name": "Multi-Class-Sentiment-Analysis-BERT-Hybrid-Deep-Learning.ipynb",
      "provenance": [],
      "collapsed_sections": [],
      "mount_file_id": "1wUJ2TN7kGDLNh2Qqu-XPYx7m70gb_V9J",
      "authorship_tag": "ABX9TyNHT3dcVVce9IWSq+BNgMpO",
      "include_colab_link": true
    },
    "kernelspec": {
      "name": "python3",
      "display_name": "Python 3"
    },
    "language_info": {
      "name": "python"
    },
    "widgets": {
      "application/vnd.jupyter.widget-state+json": {
        "3d5f0a9446334caea9954fde7375a71c": {
          "model_module": "@jupyter-widgets/controls",
          "model_name": "HBoxModel",
          "model_module_version": "1.5.0",
          "state": {
            "_dom_classes": [],
            "_model_module": "@jupyter-widgets/controls",
            "_model_module_version": "1.5.0",
            "_model_name": "HBoxModel",
            "_view_count": null,
            "_view_module": "@jupyter-widgets/controls",
            "_view_module_version": "1.5.0",
            "_view_name": "HBoxView",
            "box_style": "",
            "children": [
              "IPY_MODEL_0545077a82c2435d91a46837eeae8f43",
              "IPY_MODEL_938e870a2a514a2e8ba5287b3e3379f2",
              "IPY_MODEL_36caf94dbf3f44a3899825dab8abbd9d"
            ],
            "layout": "IPY_MODEL_cd119dbc225541eebed62703c068d737"
          }
        },
        "0545077a82c2435d91a46837eeae8f43": {
          "model_module": "@jupyter-widgets/controls",
          "model_name": "HTMLModel",
          "model_module_version": "1.5.0",
          "state": {
            "_dom_classes": [],
            "_model_module": "@jupyter-widgets/controls",
            "_model_module_version": "1.5.0",
            "_model_name": "HTMLModel",
            "_view_count": null,
            "_view_module": "@jupyter-widgets/controls",
            "_view_module_version": "1.5.0",
            "_view_name": "HTMLView",
            "description": "",
            "description_tooltip": null,
            "layout": "IPY_MODEL_ab5d32e32e2d4b7ba5cb21211936e51b",
            "placeholder": "​",
            "style": "IPY_MODEL_1a48709aa6ae4092a79e2d425089bbfe",
            "value": "Downloading: 100%"
          }
        },
        "938e870a2a514a2e8ba5287b3e3379f2": {
          "model_module": "@jupyter-widgets/controls",
          "model_name": "FloatProgressModel",
          "model_module_version": "1.5.0",
          "state": {
            "_dom_classes": [],
            "_model_module": "@jupyter-widgets/controls",
            "_model_module_version": "1.5.0",
            "_model_name": "FloatProgressModel",
            "_view_count": null,
            "_view_module": "@jupyter-widgets/controls",
            "_view_module_version": "1.5.0",
            "_view_name": "ProgressView",
            "bar_style": "success",
            "description": "",
            "description_tooltip": null,
            "layout": "IPY_MODEL_95c2510bbf914e30be3c8259038e0832",
            "max": 1534,
            "min": 0,
            "orientation": "horizontal",
            "style": "IPY_MODEL_4cad0341d54d4c679561855c4c55e14d",
            "value": 1534
          }
        },
        "36caf94dbf3f44a3899825dab8abbd9d": {
          "model_module": "@jupyter-widgets/controls",
          "model_name": "HTMLModel",
          "model_module_version": "1.5.0",
          "state": {
            "_dom_classes": [],
            "_model_module": "@jupyter-widgets/controls",
            "_model_module_version": "1.5.0",
            "_model_name": "HTMLModel",
            "_view_count": null,
            "_view_module": "@jupyter-widgets/controls",
            "_view_module_version": "1.5.0",
            "_view_name": "HTMLView",
            "description": "",
            "description_tooltip": null,
            "layout": "IPY_MODEL_f086517ab91640f2b0f1056221bb7b1a",
            "placeholder": "​",
            "style": "IPY_MODEL_cb77e797e4a4482e8dec3ef1a255b18e",
            "value": " 1.50k/1.50k [00:00&lt;00:00, 45.3kB/s]"
          }
        },
        "cd119dbc225541eebed62703c068d737": {
          "model_module": "@jupyter-widgets/base",
          "model_name": "LayoutModel",
          "model_module_version": "1.2.0",
          "state": {
            "_model_module": "@jupyter-widgets/base",
            "_model_module_version": "1.2.0",
            "_model_name": "LayoutModel",
            "_view_count": null,
            "_view_module": "@jupyter-widgets/base",
            "_view_module_version": "1.2.0",
            "_view_name": "LayoutView",
            "align_content": null,
            "align_items": null,
            "align_self": null,
            "border": null,
            "bottom": null,
            "display": null,
            "flex": null,
            "flex_flow": null,
            "grid_area": null,
            "grid_auto_columns": null,
            "grid_auto_flow": null,
            "grid_auto_rows": null,
            "grid_column": null,
            "grid_gap": null,
            "grid_row": null,
            "grid_template_areas": null,
            "grid_template_columns": null,
            "grid_template_rows": null,
            "height": null,
            "justify_content": null,
            "justify_items": null,
            "left": null,
            "margin": null,
            "max_height": null,
            "max_width": null,
            "min_height": null,
            "min_width": null,
            "object_fit": null,
            "object_position": null,
            "order": null,
            "overflow": null,
            "overflow_x": null,
            "overflow_y": null,
            "padding": null,
            "right": null,
            "top": null,
            "visibility": null,
            "width": null
          }
        },
        "ab5d32e32e2d4b7ba5cb21211936e51b": {
          "model_module": "@jupyter-widgets/base",
          "model_name": "LayoutModel",
          "model_module_version": "1.2.0",
          "state": {
            "_model_module": "@jupyter-widgets/base",
            "_model_module_version": "1.2.0",
            "_model_name": "LayoutModel",
            "_view_count": null,
            "_view_module": "@jupyter-widgets/base",
            "_view_module_version": "1.2.0",
            "_view_name": "LayoutView",
            "align_content": null,
            "align_items": null,
            "align_self": null,
            "border": null,
            "bottom": null,
            "display": null,
            "flex": null,
            "flex_flow": null,
            "grid_area": null,
            "grid_auto_columns": null,
            "grid_auto_flow": null,
            "grid_auto_rows": null,
            "grid_column": null,
            "grid_gap": null,
            "grid_row": null,
            "grid_template_areas": null,
            "grid_template_columns": null,
            "grid_template_rows": null,
            "height": null,
            "justify_content": null,
            "justify_items": null,
            "left": null,
            "margin": null,
            "max_height": null,
            "max_width": null,
            "min_height": null,
            "min_width": null,
            "object_fit": null,
            "object_position": null,
            "order": null,
            "overflow": null,
            "overflow_x": null,
            "overflow_y": null,
            "padding": null,
            "right": null,
            "top": null,
            "visibility": null,
            "width": null
          }
        },
        "1a48709aa6ae4092a79e2d425089bbfe": {
          "model_module": "@jupyter-widgets/controls",
          "model_name": "DescriptionStyleModel",
          "model_module_version": "1.5.0",
          "state": {
            "_model_module": "@jupyter-widgets/controls",
            "_model_module_version": "1.5.0",
            "_model_name": "DescriptionStyleModel",
            "_view_count": null,
            "_view_module": "@jupyter-widgets/base",
            "_view_module_version": "1.2.0",
            "_view_name": "StyleView",
            "description_width": ""
          }
        },
        "95c2510bbf914e30be3c8259038e0832": {
          "model_module": "@jupyter-widgets/base",
          "model_name": "LayoutModel",
          "model_module_version": "1.2.0",
          "state": {
            "_model_module": "@jupyter-widgets/base",
            "_model_module_version": "1.2.0",
            "_model_name": "LayoutModel",
            "_view_count": null,
            "_view_module": "@jupyter-widgets/base",
            "_view_module_version": "1.2.0",
            "_view_name": "LayoutView",
            "align_content": null,
            "align_items": null,
            "align_self": null,
            "border": null,
            "bottom": null,
            "display": null,
            "flex": null,
            "flex_flow": null,
            "grid_area": null,
            "grid_auto_columns": null,
            "grid_auto_flow": null,
            "grid_auto_rows": null,
            "grid_column": null,
            "grid_gap": null,
            "grid_row": null,
            "grid_template_areas": null,
            "grid_template_columns": null,
            "grid_template_rows": null,
            "height": null,
            "justify_content": null,
            "justify_items": null,
            "left": null,
            "margin": null,
            "max_height": null,
            "max_width": null,
            "min_height": null,
            "min_width": null,
            "object_fit": null,
            "object_position": null,
            "order": null,
            "overflow": null,
            "overflow_x": null,
            "overflow_y": null,
            "padding": null,
            "right": null,
            "top": null,
            "visibility": null,
            "width": null
          }
        },
        "4cad0341d54d4c679561855c4c55e14d": {
          "model_module": "@jupyter-widgets/controls",
          "model_name": "ProgressStyleModel",
          "model_module_version": "1.5.0",
          "state": {
            "_model_module": "@jupyter-widgets/controls",
            "_model_module_version": "1.5.0",
            "_model_name": "ProgressStyleModel",
            "_view_count": null,
            "_view_module": "@jupyter-widgets/base",
            "_view_module_version": "1.2.0",
            "_view_name": "StyleView",
            "bar_color": null,
            "description_width": ""
          }
        },
        "f086517ab91640f2b0f1056221bb7b1a": {
          "model_module": "@jupyter-widgets/base",
          "model_name": "LayoutModel",
          "model_module_version": "1.2.0",
          "state": {
            "_model_module": "@jupyter-widgets/base",
            "_model_module_version": "1.2.0",
            "_model_name": "LayoutModel",
            "_view_count": null,
            "_view_module": "@jupyter-widgets/base",
            "_view_module_version": "1.2.0",
            "_view_name": "LayoutView",
            "align_content": null,
            "align_items": null,
            "align_self": null,
            "border": null,
            "bottom": null,
            "display": null,
            "flex": null,
            "flex_flow": null,
            "grid_area": null,
            "grid_auto_columns": null,
            "grid_auto_flow": null,
            "grid_auto_rows": null,
            "grid_column": null,
            "grid_gap": null,
            "grid_row": null,
            "grid_template_areas": null,
            "grid_template_columns": null,
            "grid_template_rows": null,
            "height": null,
            "justify_content": null,
            "justify_items": null,
            "left": null,
            "margin": null,
            "max_height": null,
            "max_width": null,
            "min_height": null,
            "min_width": null,
            "object_fit": null,
            "object_position": null,
            "order": null,
            "overflow": null,
            "overflow_x": null,
            "overflow_y": null,
            "padding": null,
            "right": null,
            "top": null,
            "visibility": null,
            "width": null
          }
        },
        "cb77e797e4a4482e8dec3ef1a255b18e": {
          "model_module": "@jupyter-widgets/controls",
          "model_name": "DescriptionStyleModel",
          "model_module_version": "1.5.0",
          "state": {
            "_model_module": "@jupyter-widgets/controls",
            "_model_module_version": "1.5.0",
            "_model_name": "DescriptionStyleModel",
            "_view_count": null,
            "_view_module": "@jupyter-widgets/base",
            "_view_module_version": "1.2.0",
            "_view_name": "StyleView",
            "description_width": ""
          }
        },
        "e73f489edd27421ab899961b70340925": {
          "model_module": "@jupyter-widgets/controls",
          "model_name": "HBoxModel",
          "model_module_version": "1.5.0",
          "state": {
            "_dom_classes": [],
            "_model_module": "@jupyter-widgets/controls",
            "_model_module_version": "1.5.0",
            "_model_name": "HBoxModel",
            "_view_count": null,
            "_view_module": "@jupyter-widgets/controls",
            "_view_module_version": "1.5.0",
            "_view_name": "HBoxView",
            "box_style": "",
            "children": [
              "IPY_MODEL_35e9c7392a2f474bb40ee1f4e444d7e3",
              "IPY_MODEL_0397672fa9cb420d959acdfb1c307142",
              "IPY_MODEL_63a45d7f45f74082a0989b45d5fa1606"
            ],
            "layout": "IPY_MODEL_2d7d4363e3624a3982d10f6857facc51"
          }
        },
        "35e9c7392a2f474bb40ee1f4e444d7e3": {
          "model_module": "@jupyter-widgets/controls",
          "model_name": "HTMLModel",
          "model_module_version": "1.5.0",
          "state": {
            "_dom_classes": [],
            "_model_module": "@jupyter-widgets/controls",
            "_model_module_version": "1.5.0",
            "_model_name": "HTMLModel",
            "_view_count": null,
            "_view_module": "@jupyter-widgets/controls",
            "_view_module_version": "1.5.0",
            "_view_name": "HTMLView",
            "description": "",
            "description_tooltip": null,
            "layout": "IPY_MODEL_8345158151174b818763be7b3081cca9",
            "placeholder": "​",
            "style": "IPY_MODEL_39cc362c76814dfb92c43dec507f27cb",
            "value": "Downloading: 100%"
          }
        },
        "0397672fa9cb420d959acdfb1c307142": {
          "model_module": "@jupyter-widgets/controls",
          "model_name": "FloatProgressModel",
          "model_module_version": "1.5.0",
          "state": {
            "_dom_classes": [],
            "_model_module": "@jupyter-widgets/controls",
            "_model_module_version": "1.5.0",
            "_model_name": "FloatProgressModel",
            "_view_count": null,
            "_view_module": "@jupyter-widgets/controls",
            "_view_module_version": "1.5.0",
            "_view_name": "ProgressView",
            "bar_style": "success",
            "description": "",
            "description_tooltip": null,
            "layout": "IPY_MODEL_be07c196dadd4a9bbeec5ee90feb7ec9",
            "max": 655812184,
            "min": 0,
            "orientation": "horizontal",
            "style": "IPY_MODEL_4304edd965184b16aca24557edcf9863",
            "value": 655812184
          }
        },
        "63a45d7f45f74082a0989b45d5fa1606": {
          "model_module": "@jupyter-widgets/controls",
          "model_name": "HTMLModel",
          "model_module_version": "1.5.0",
          "state": {
            "_dom_classes": [],
            "_model_module": "@jupyter-widgets/controls",
            "_model_module_version": "1.5.0",
            "_model_name": "HTMLModel",
            "_view_count": null,
            "_view_module": "@jupyter-widgets/controls",
            "_view_module_version": "1.5.0",
            "_view_name": "HTMLView",
            "description": "",
            "description_tooltip": null,
            "layout": "IPY_MODEL_3cef104b92a24b1991a3fa3d19c90a4e",
            "placeholder": "​",
            "style": "IPY_MODEL_9dfcec71b88b40599bb9d2da0202f973",
            "value": " 625M/625M [00:10&lt;00:00, 65.2MB/s]"
          }
        },
        "2d7d4363e3624a3982d10f6857facc51": {
          "model_module": "@jupyter-widgets/base",
          "model_name": "LayoutModel",
          "model_module_version": "1.2.0",
          "state": {
            "_model_module": "@jupyter-widgets/base",
            "_model_module_version": "1.2.0",
            "_model_name": "LayoutModel",
            "_view_count": null,
            "_view_module": "@jupyter-widgets/base",
            "_view_module_version": "1.2.0",
            "_view_name": "LayoutView",
            "align_content": null,
            "align_items": null,
            "align_self": null,
            "border": null,
            "bottom": null,
            "display": null,
            "flex": null,
            "flex_flow": null,
            "grid_area": null,
            "grid_auto_columns": null,
            "grid_auto_flow": null,
            "grid_auto_rows": null,
            "grid_column": null,
            "grid_gap": null,
            "grid_row": null,
            "grid_template_areas": null,
            "grid_template_columns": null,
            "grid_template_rows": null,
            "height": null,
            "justify_content": null,
            "justify_items": null,
            "left": null,
            "margin": null,
            "max_height": null,
            "max_width": null,
            "min_height": null,
            "min_width": null,
            "object_fit": null,
            "object_position": null,
            "order": null,
            "overflow": null,
            "overflow_x": null,
            "overflow_y": null,
            "padding": null,
            "right": null,
            "top": null,
            "visibility": null,
            "width": null
          }
        },
        "8345158151174b818763be7b3081cca9": {
          "model_module": "@jupyter-widgets/base",
          "model_name": "LayoutModel",
          "model_module_version": "1.2.0",
          "state": {
            "_model_module": "@jupyter-widgets/base",
            "_model_module_version": "1.2.0",
            "_model_name": "LayoutModel",
            "_view_count": null,
            "_view_module": "@jupyter-widgets/base",
            "_view_module_version": "1.2.0",
            "_view_name": "LayoutView",
            "align_content": null,
            "align_items": null,
            "align_self": null,
            "border": null,
            "bottom": null,
            "display": null,
            "flex": null,
            "flex_flow": null,
            "grid_area": null,
            "grid_auto_columns": null,
            "grid_auto_flow": null,
            "grid_auto_rows": null,
            "grid_column": null,
            "grid_gap": null,
            "grid_row": null,
            "grid_template_areas": null,
            "grid_template_columns": null,
            "grid_template_rows": null,
            "height": null,
            "justify_content": null,
            "justify_items": null,
            "left": null,
            "margin": null,
            "max_height": null,
            "max_width": null,
            "min_height": null,
            "min_width": null,
            "object_fit": null,
            "object_position": null,
            "order": null,
            "overflow": null,
            "overflow_x": null,
            "overflow_y": null,
            "padding": null,
            "right": null,
            "top": null,
            "visibility": null,
            "width": null
          }
        },
        "39cc362c76814dfb92c43dec507f27cb": {
          "model_module": "@jupyter-widgets/controls",
          "model_name": "DescriptionStyleModel",
          "model_module_version": "1.5.0",
          "state": {
            "_model_module": "@jupyter-widgets/controls",
            "_model_module_version": "1.5.0",
            "_model_name": "DescriptionStyleModel",
            "_view_count": null,
            "_view_module": "@jupyter-widgets/base",
            "_view_module_version": "1.2.0",
            "_view_name": "StyleView",
            "description_width": ""
          }
        },
        "be07c196dadd4a9bbeec5ee90feb7ec9": {
          "model_module": "@jupyter-widgets/base",
          "model_name": "LayoutModel",
          "model_module_version": "1.2.0",
          "state": {
            "_model_module": "@jupyter-widgets/base",
            "_model_module_version": "1.2.0",
            "_model_name": "LayoutModel",
            "_view_count": null,
            "_view_module": "@jupyter-widgets/base",
            "_view_module_version": "1.2.0",
            "_view_name": "LayoutView",
            "align_content": null,
            "align_items": null,
            "align_self": null,
            "border": null,
            "bottom": null,
            "display": null,
            "flex": null,
            "flex_flow": null,
            "grid_area": null,
            "grid_auto_columns": null,
            "grid_auto_flow": null,
            "grid_auto_rows": null,
            "grid_column": null,
            "grid_gap": null,
            "grid_row": null,
            "grid_template_areas": null,
            "grid_template_columns": null,
            "grid_template_rows": null,
            "height": null,
            "justify_content": null,
            "justify_items": null,
            "left": null,
            "margin": null,
            "max_height": null,
            "max_width": null,
            "min_height": null,
            "min_width": null,
            "object_fit": null,
            "object_position": null,
            "order": null,
            "overflow": null,
            "overflow_x": null,
            "overflow_y": null,
            "padding": null,
            "right": null,
            "top": null,
            "visibility": null,
            "width": null
          }
        },
        "4304edd965184b16aca24557edcf9863": {
          "model_module": "@jupyter-widgets/controls",
          "model_name": "ProgressStyleModel",
          "model_module_version": "1.5.0",
          "state": {
            "_model_module": "@jupyter-widgets/controls",
            "_model_module_version": "1.5.0",
            "_model_name": "ProgressStyleModel",
            "_view_count": null,
            "_view_module": "@jupyter-widgets/base",
            "_view_module_version": "1.2.0",
            "_view_name": "StyleView",
            "bar_color": null,
            "description_width": ""
          }
        },
        "3cef104b92a24b1991a3fa3d19c90a4e": {
          "model_module": "@jupyter-widgets/base",
          "model_name": "LayoutModel",
          "model_module_version": "1.2.0",
          "state": {
            "_model_module": "@jupyter-widgets/base",
            "_model_module_version": "1.2.0",
            "_model_name": "LayoutModel",
            "_view_count": null,
            "_view_module": "@jupyter-widgets/base",
            "_view_module_version": "1.2.0",
            "_view_name": "LayoutView",
            "align_content": null,
            "align_items": null,
            "align_self": null,
            "border": null,
            "bottom": null,
            "display": null,
            "flex": null,
            "flex_flow": null,
            "grid_area": null,
            "grid_auto_columns": null,
            "grid_auto_flow": null,
            "grid_auto_rows": null,
            "grid_column": null,
            "grid_gap": null,
            "grid_row": null,
            "grid_template_areas": null,
            "grid_template_columns": null,
            "grid_template_rows": null,
            "height": null,
            "justify_content": null,
            "justify_items": null,
            "left": null,
            "margin": null,
            "max_height": null,
            "max_width": null,
            "min_height": null,
            "min_width": null,
            "object_fit": null,
            "object_position": null,
            "order": null,
            "overflow": null,
            "overflow_x": null,
            "overflow_y": null,
            "padding": null,
            "right": null,
            "top": null,
            "visibility": null,
            "width": null
          }
        },
        "9dfcec71b88b40599bb9d2da0202f973": {
          "model_module": "@jupyter-widgets/controls",
          "model_name": "DescriptionStyleModel",
          "model_module_version": "1.5.0",
          "state": {
            "_model_module": "@jupyter-widgets/controls",
            "_model_module_version": "1.5.0",
            "_model_name": "DescriptionStyleModel",
            "_view_count": null,
            "_view_module": "@jupyter-widgets/base",
            "_view_module_version": "1.2.0",
            "_view_name": "StyleView",
            "description_width": ""
          }
        },
        "afc43fe3055341b492460864bfe8afa6": {
          "model_module": "@jupyter-widgets/controls",
          "model_name": "HBoxModel",
          "model_module_version": "1.5.0",
          "state": {
            "_dom_classes": [],
            "_model_module": "@jupyter-widgets/controls",
            "_model_module_version": "1.5.0",
            "_model_name": "HBoxModel",
            "_view_count": null,
            "_view_module": "@jupyter-widgets/controls",
            "_view_module_version": "1.5.0",
            "_view_name": "HBoxView",
            "box_style": "",
            "children": [
              "IPY_MODEL_78a6c6ba33ae4171bd4baf3c56eea67f",
              "IPY_MODEL_f67fa2ecb2e64e4c9f26be96fa1b7131",
              "IPY_MODEL_a15de5b0912a450cb2abca7be47a0ab3"
            ],
            "layout": "IPY_MODEL_128c9f232e2b4f198bb4a982f6b2dded"
          }
        },
        "78a6c6ba33ae4171bd4baf3c56eea67f": {
          "model_module": "@jupyter-widgets/controls",
          "model_name": "HTMLModel",
          "model_module_version": "1.5.0",
          "state": {
            "_dom_classes": [],
            "_model_module": "@jupyter-widgets/controls",
            "_model_module_version": "1.5.0",
            "_model_name": "HTMLModel",
            "_view_count": null,
            "_view_module": "@jupyter-widgets/controls",
            "_view_module_version": "1.5.0",
            "_view_name": "HTMLView",
            "description": "",
            "description_tooltip": null,
            "layout": "IPY_MODEL_b80d14eab015408e8bb8f945db7035c5",
            "placeholder": "​",
            "style": "IPY_MODEL_302f0718d58f487db13b743a8e1a7252",
            "value": "Downloading: 100%"
          }
        },
        "f67fa2ecb2e64e4c9f26be96fa1b7131": {
          "model_module": "@jupyter-widgets/controls",
          "model_name": "FloatProgressModel",
          "model_module_version": "1.5.0",
          "state": {
            "_dom_classes": [],
            "_model_module": "@jupyter-widgets/controls",
            "_model_module_version": "1.5.0",
            "_model_name": "FloatProgressModel",
            "_view_count": null,
            "_view_module": "@jupyter-widgets/controls",
            "_view_module_version": "1.5.0",
            "_view_name": "ProgressView",
            "bar_style": "success",
            "description": "",
            "description_tooltip": null,
            "layout": "IPY_MODEL_23bb3cd278fa4049870c60f140894f16",
            "max": 2,
            "min": 0,
            "orientation": "horizontal",
            "style": "IPY_MODEL_6d7b26ba4beb45cd98e8d837a11e4147",
            "value": 2
          }
        },
        "a15de5b0912a450cb2abca7be47a0ab3": {
          "model_module": "@jupyter-widgets/controls",
          "model_name": "HTMLModel",
          "model_module_version": "1.5.0",
          "state": {
            "_dom_classes": [],
            "_model_module": "@jupyter-widgets/controls",
            "_model_module_version": "1.5.0",
            "_model_name": "HTMLModel",
            "_view_count": null,
            "_view_module": "@jupyter-widgets/controls",
            "_view_module_version": "1.5.0",
            "_view_name": "HTMLView",
            "description": "",
            "description_tooltip": null,
            "layout": "IPY_MODEL_25a0eaf4f1d3469fb921f93d9a3559c7",
            "placeholder": "​",
            "style": "IPY_MODEL_5180c785c50a43bf831803de0d694f7e",
            "value": " 2.00/2.00 [00:00&lt;00:00, 61.1B/s]"
          }
        },
        "128c9f232e2b4f198bb4a982f6b2dded": {
          "model_module": "@jupyter-widgets/base",
          "model_name": "LayoutModel",
          "model_module_version": "1.2.0",
          "state": {
            "_model_module": "@jupyter-widgets/base",
            "_model_module_version": "1.2.0",
            "_model_name": "LayoutModel",
            "_view_count": null,
            "_view_module": "@jupyter-widgets/base",
            "_view_module_version": "1.2.0",
            "_view_name": "LayoutView",
            "align_content": null,
            "align_items": null,
            "align_self": null,
            "border": null,
            "bottom": null,
            "display": null,
            "flex": null,
            "flex_flow": null,
            "grid_area": null,
            "grid_auto_columns": null,
            "grid_auto_flow": null,
            "grid_auto_rows": null,
            "grid_column": null,
            "grid_gap": null,
            "grid_row": null,
            "grid_template_areas": null,
            "grid_template_columns": null,
            "grid_template_rows": null,
            "height": null,
            "justify_content": null,
            "justify_items": null,
            "left": null,
            "margin": null,
            "max_height": null,
            "max_width": null,
            "min_height": null,
            "min_width": null,
            "object_fit": null,
            "object_position": null,
            "order": null,
            "overflow": null,
            "overflow_x": null,
            "overflow_y": null,
            "padding": null,
            "right": null,
            "top": null,
            "visibility": null,
            "width": null
          }
        },
        "b80d14eab015408e8bb8f945db7035c5": {
          "model_module": "@jupyter-widgets/base",
          "model_name": "LayoutModel",
          "model_module_version": "1.2.0",
          "state": {
            "_model_module": "@jupyter-widgets/base",
            "_model_module_version": "1.2.0",
            "_model_name": "LayoutModel",
            "_view_count": null,
            "_view_module": "@jupyter-widgets/base",
            "_view_module_version": "1.2.0",
            "_view_name": "LayoutView",
            "align_content": null,
            "align_items": null,
            "align_self": null,
            "border": null,
            "bottom": null,
            "display": null,
            "flex": null,
            "flex_flow": null,
            "grid_area": null,
            "grid_auto_columns": null,
            "grid_auto_flow": null,
            "grid_auto_rows": null,
            "grid_column": null,
            "grid_gap": null,
            "grid_row": null,
            "grid_template_areas": null,
            "grid_template_columns": null,
            "grid_template_rows": null,
            "height": null,
            "justify_content": null,
            "justify_items": null,
            "left": null,
            "margin": null,
            "max_height": null,
            "max_width": null,
            "min_height": null,
            "min_width": null,
            "object_fit": null,
            "object_position": null,
            "order": null,
            "overflow": null,
            "overflow_x": null,
            "overflow_y": null,
            "padding": null,
            "right": null,
            "top": null,
            "visibility": null,
            "width": null
          }
        },
        "302f0718d58f487db13b743a8e1a7252": {
          "model_module": "@jupyter-widgets/controls",
          "model_name": "DescriptionStyleModel",
          "model_module_version": "1.5.0",
          "state": {
            "_model_module": "@jupyter-widgets/controls",
            "_model_module_version": "1.5.0",
            "_model_name": "DescriptionStyleModel",
            "_view_count": null,
            "_view_module": "@jupyter-widgets/base",
            "_view_module_version": "1.2.0",
            "_view_name": "StyleView",
            "description_width": ""
          }
        },
        "23bb3cd278fa4049870c60f140894f16": {
          "model_module": "@jupyter-widgets/base",
          "model_name": "LayoutModel",
          "model_module_version": "1.2.0",
          "state": {
            "_model_module": "@jupyter-widgets/base",
            "_model_module_version": "1.2.0",
            "_model_name": "LayoutModel",
            "_view_count": null,
            "_view_module": "@jupyter-widgets/base",
            "_view_module_version": "1.2.0",
            "_view_name": "LayoutView",
            "align_content": null,
            "align_items": null,
            "align_self": null,
            "border": null,
            "bottom": null,
            "display": null,
            "flex": null,
            "flex_flow": null,
            "grid_area": null,
            "grid_auto_columns": null,
            "grid_auto_flow": null,
            "grid_auto_rows": null,
            "grid_column": null,
            "grid_gap": null,
            "grid_row": null,
            "grid_template_areas": null,
            "grid_template_columns": null,
            "grid_template_rows": null,
            "height": null,
            "justify_content": null,
            "justify_items": null,
            "left": null,
            "margin": null,
            "max_height": null,
            "max_width": null,
            "min_height": null,
            "min_width": null,
            "object_fit": null,
            "object_position": null,
            "order": null,
            "overflow": null,
            "overflow_x": null,
            "overflow_y": null,
            "padding": null,
            "right": null,
            "top": null,
            "visibility": null,
            "width": null
          }
        },
        "6d7b26ba4beb45cd98e8d837a11e4147": {
          "model_module": "@jupyter-widgets/controls",
          "model_name": "ProgressStyleModel",
          "model_module_version": "1.5.0",
          "state": {
            "_model_module": "@jupyter-widgets/controls",
            "_model_module_version": "1.5.0",
            "_model_name": "ProgressStyleModel",
            "_view_count": null,
            "_view_module": "@jupyter-widgets/base",
            "_view_module_version": "1.2.0",
            "_view_name": "StyleView",
            "bar_color": null,
            "description_width": ""
          }
        },
        "25a0eaf4f1d3469fb921f93d9a3559c7": {
          "model_module": "@jupyter-widgets/base",
          "model_name": "LayoutModel",
          "model_module_version": "1.2.0",
          "state": {
            "_model_module": "@jupyter-widgets/base",
            "_model_module_version": "1.2.0",
            "_model_name": "LayoutModel",
            "_view_count": null,
            "_view_module": "@jupyter-widgets/base",
            "_view_module_version": "1.2.0",
            "_view_name": "LayoutView",
            "align_content": null,
            "align_items": null,
            "align_self": null,
            "border": null,
            "bottom": null,
            "display": null,
            "flex": null,
            "flex_flow": null,
            "grid_area": null,
            "grid_auto_columns": null,
            "grid_auto_flow": null,
            "grid_auto_rows": null,
            "grid_column": null,
            "grid_gap": null,
            "grid_row": null,
            "grid_template_areas": null,
            "grid_template_columns": null,
            "grid_template_rows": null,
            "height": null,
            "justify_content": null,
            "justify_items": null,
            "left": null,
            "margin": null,
            "max_height": null,
            "max_width": null,
            "min_height": null,
            "min_width": null,
            "object_fit": null,
            "object_position": null,
            "order": null,
            "overflow": null,
            "overflow_x": null,
            "overflow_y": null,
            "padding": null,
            "right": null,
            "top": null,
            "visibility": null,
            "width": null
          }
        },
        "5180c785c50a43bf831803de0d694f7e": {
          "model_module": "@jupyter-widgets/controls",
          "model_name": "DescriptionStyleModel",
          "model_module_version": "1.5.0",
          "state": {
            "_model_module": "@jupyter-widgets/controls",
            "_model_module_version": "1.5.0",
            "_model_name": "DescriptionStyleModel",
            "_view_count": null,
            "_view_module": "@jupyter-widgets/base",
            "_view_module_version": "1.2.0",
            "_view_name": "StyleView",
            "description_width": ""
          }
        },
        "44620a82eda4471694601c11ee12051f": {
          "model_module": "@jupyter-widgets/controls",
          "model_name": "HBoxModel",
          "model_module_version": "1.5.0",
          "state": {
            "_dom_classes": [],
            "_model_module": "@jupyter-widgets/controls",
            "_model_module_version": "1.5.0",
            "_model_name": "HBoxModel",
            "_view_count": null,
            "_view_module": "@jupyter-widgets/controls",
            "_view_module_version": "1.5.0",
            "_view_name": "HBoxView",
            "box_style": "",
            "children": [
              "IPY_MODEL_16c7671cc5434626a23ec98ef708785c",
              "IPY_MODEL_75a2e030be3948719ee637703a04b1cf",
              "IPY_MODEL_d294764cabe749019620174ca6eb0ac3"
            ],
            "layout": "IPY_MODEL_2665f48766b34f6f92dfc0b8c14594c7"
          }
        },
        "16c7671cc5434626a23ec98ef708785c": {
          "model_module": "@jupyter-widgets/controls",
          "model_name": "HTMLModel",
          "model_module_version": "1.5.0",
          "state": {
            "_dom_classes": [],
            "_model_module": "@jupyter-widgets/controls",
            "_model_module_version": "1.5.0",
            "_model_name": "HTMLModel",
            "_view_count": null,
            "_view_module": "@jupyter-widgets/controls",
            "_view_module_version": "1.5.0",
            "_view_name": "HTMLView",
            "description": "",
            "description_tooltip": null,
            "layout": "IPY_MODEL_27e8ec41aa9a4dd1907a89c758113be4",
            "placeholder": "​",
            "style": "IPY_MODEL_88610701771f495bb78d359c7d1210fd",
            "value": "Downloading: 100%"
          }
        },
        "75a2e030be3948719ee637703a04b1cf": {
          "model_module": "@jupyter-widgets/controls",
          "model_name": "FloatProgressModel",
          "model_module_version": "1.5.0",
          "state": {
            "_dom_classes": [],
            "_model_module": "@jupyter-widgets/controls",
            "_model_module_version": "1.5.0",
            "_model_name": "FloatProgressModel",
            "_view_count": null,
            "_view_module": "@jupyter-widgets/controls",
            "_view_module_version": "1.5.0",
            "_view_name": "ProgressView",
            "bar_style": "success",
            "description": "",
            "description_tooltip": null,
            "layout": "IPY_MODEL_af5be2144df646289aa73bc996e1b76c",
            "max": 229167,
            "min": 0,
            "orientation": "horizontal",
            "style": "IPY_MODEL_84e19368a5a24135a19c1c2436a45966",
            "value": 229167
          }
        },
        "d294764cabe749019620174ca6eb0ac3": {
          "model_module": "@jupyter-widgets/controls",
          "model_name": "HTMLModel",
          "model_module_version": "1.5.0",
          "state": {
            "_dom_classes": [],
            "_model_module": "@jupyter-widgets/controls",
            "_model_module_version": "1.5.0",
            "_model_name": "HTMLModel",
            "_view_count": null,
            "_view_module": "@jupyter-widgets/controls",
            "_view_module_version": "1.5.0",
            "_view_name": "HTMLView",
            "description": "",
            "description_tooltip": null,
            "layout": "IPY_MODEL_2fb6d59de23b4000b43a078bc09ec5d1",
            "placeholder": "​",
            "style": "IPY_MODEL_bc8dedabad82480e9cc8a62ac3cde268",
            "value": " 224k/224k [00:00&lt;00:00, 677kB/s]"
          }
        },
        "2665f48766b34f6f92dfc0b8c14594c7": {
          "model_module": "@jupyter-widgets/base",
          "model_name": "LayoutModel",
          "model_module_version": "1.2.0",
          "state": {
            "_model_module": "@jupyter-widgets/base",
            "_model_module_version": "1.2.0",
            "_model_name": "LayoutModel",
            "_view_count": null,
            "_view_module": "@jupyter-widgets/base",
            "_view_module_version": "1.2.0",
            "_view_name": "LayoutView",
            "align_content": null,
            "align_items": null,
            "align_self": null,
            "border": null,
            "bottom": null,
            "display": null,
            "flex": null,
            "flex_flow": null,
            "grid_area": null,
            "grid_auto_columns": null,
            "grid_auto_flow": null,
            "grid_auto_rows": null,
            "grid_column": null,
            "grid_gap": null,
            "grid_row": null,
            "grid_template_areas": null,
            "grid_template_columns": null,
            "grid_template_rows": null,
            "height": null,
            "justify_content": null,
            "justify_items": null,
            "left": null,
            "margin": null,
            "max_height": null,
            "max_width": null,
            "min_height": null,
            "min_width": null,
            "object_fit": null,
            "object_position": null,
            "order": null,
            "overflow": null,
            "overflow_x": null,
            "overflow_y": null,
            "padding": null,
            "right": null,
            "top": null,
            "visibility": null,
            "width": null
          }
        },
        "27e8ec41aa9a4dd1907a89c758113be4": {
          "model_module": "@jupyter-widgets/base",
          "model_name": "LayoutModel",
          "model_module_version": "1.2.0",
          "state": {
            "_model_module": "@jupyter-widgets/base",
            "_model_module_version": "1.2.0",
            "_model_name": "LayoutModel",
            "_view_count": null,
            "_view_module": "@jupyter-widgets/base",
            "_view_module_version": "1.2.0",
            "_view_name": "LayoutView",
            "align_content": null,
            "align_items": null,
            "align_self": null,
            "border": null,
            "bottom": null,
            "display": null,
            "flex": null,
            "flex_flow": null,
            "grid_area": null,
            "grid_auto_columns": null,
            "grid_auto_flow": null,
            "grid_auto_rows": null,
            "grid_column": null,
            "grid_gap": null,
            "grid_row": null,
            "grid_template_areas": null,
            "grid_template_columns": null,
            "grid_template_rows": null,
            "height": null,
            "justify_content": null,
            "justify_items": null,
            "left": null,
            "margin": null,
            "max_height": null,
            "max_width": null,
            "min_height": null,
            "min_width": null,
            "object_fit": null,
            "object_position": null,
            "order": null,
            "overflow": null,
            "overflow_x": null,
            "overflow_y": null,
            "padding": null,
            "right": null,
            "top": null,
            "visibility": null,
            "width": null
          }
        },
        "88610701771f495bb78d359c7d1210fd": {
          "model_module": "@jupyter-widgets/controls",
          "model_name": "DescriptionStyleModel",
          "model_module_version": "1.5.0",
          "state": {
            "_model_module": "@jupyter-widgets/controls",
            "_model_module_version": "1.5.0",
            "_model_name": "DescriptionStyleModel",
            "_view_count": null,
            "_view_module": "@jupyter-widgets/base",
            "_view_module_version": "1.2.0",
            "_view_name": "StyleView",
            "description_width": ""
          }
        },
        "af5be2144df646289aa73bc996e1b76c": {
          "model_module": "@jupyter-widgets/base",
          "model_name": "LayoutModel",
          "model_module_version": "1.2.0",
          "state": {
            "_model_module": "@jupyter-widgets/base",
            "_model_module_version": "1.2.0",
            "_model_name": "LayoutModel",
            "_view_count": null,
            "_view_module": "@jupyter-widgets/base",
            "_view_module_version": "1.2.0",
            "_view_name": "LayoutView",
            "align_content": null,
            "align_items": null,
            "align_self": null,
            "border": null,
            "bottom": null,
            "display": null,
            "flex": null,
            "flex_flow": null,
            "grid_area": null,
            "grid_auto_columns": null,
            "grid_auto_flow": null,
            "grid_auto_rows": null,
            "grid_column": null,
            "grid_gap": null,
            "grid_row": null,
            "grid_template_areas": null,
            "grid_template_columns": null,
            "grid_template_rows": null,
            "height": null,
            "justify_content": null,
            "justify_items": null,
            "left": null,
            "margin": null,
            "max_height": null,
            "max_width": null,
            "min_height": null,
            "min_width": null,
            "object_fit": null,
            "object_position": null,
            "order": null,
            "overflow": null,
            "overflow_x": null,
            "overflow_y": null,
            "padding": null,
            "right": null,
            "top": null,
            "visibility": null,
            "width": null
          }
        },
        "84e19368a5a24135a19c1c2436a45966": {
          "model_module": "@jupyter-widgets/controls",
          "model_name": "ProgressStyleModel",
          "model_module_version": "1.5.0",
          "state": {
            "_model_module": "@jupyter-widgets/controls",
            "_model_module_version": "1.5.0",
            "_model_name": "ProgressStyleModel",
            "_view_count": null,
            "_view_module": "@jupyter-widgets/base",
            "_view_module_version": "1.2.0",
            "_view_name": "StyleView",
            "bar_color": null,
            "description_width": ""
          }
        },
        "2fb6d59de23b4000b43a078bc09ec5d1": {
          "model_module": "@jupyter-widgets/base",
          "model_name": "LayoutModel",
          "model_module_version": "1.2.0",
          "state": {
            "_model_module": "@jupyter-widgets/base",
            "_model_module_version": "1.2.0",
            "_model_name": "LayoutModel",
            "_view_count": null,
            "_view_module": "@jupyter-widgets/base",
            "_view_module_version": "1.2.0",
            "_view_name": "LayoutView",
            "align_content": null,
            "align_items": null,
            "align_self": null,
            "border": null,
            "bottom": null,
            "display": null,
            "flex": null,
            "flex_flow": null,
            "grid_area": null,
            "grid_auto_columns": null,
            "grid_auto_flow": null,
            "grid_auto_rows": null,
            "grid_column": null,
            "grid_gap": null,
            "grid_row": null,
            "grid_template_areas": null,
            "grid_template_columns": null,
            "grid_template_rows": null,
            "height": null,
            "justify_content": null,
            "justify_items": null,
            "left": null,
            "margin": null,
            "max_height": null,
            "max_width": null,
            "min_height": null,
            "min_width": null,
            "object_fit": null,
            "object_position": null,
            "order": null,
            "overflow": null,
            "overflow_x": null,
            "overflow_y": null,
            "padding": null,
            "right": null,
            "top": null,
            "visibility": null,
            "width": null
          }
        },
        "bc8dedabad82480e9cc8a62ac3cde268": {
          "model_module": "@jupyter-widgets/controls",
          "model_name": "DescriptionStyleModel",
          "model_module_version": "1.5.0",
          "state": {
            "_model_module": "@jupyter-widgets/controls",
            "_model_module_version": "1.5.0",
            "_model_name": "DescriptionStyleModel",
            "_view_count": null,
            "_view_module": "@jupyter-widgets/base",
            "_view_module_version": "1.2.0",
            "_view_name": "StyleView",
            "description_width": ""
          }
        },
        "b76725b700574a4bb312a45c19110907": {
          "model_module": "@jupyter-widgets/controls",
          "model_name": "HBoxModel",
          "model_module_version": "1.5.0",
          "state": {
            "_dom_classes": [],
            "_model_module": "@jupyter-widgets/controls",
            "_model_module_version": "1.5.0",
            "_model_name": "HBoxModel",
            "_view_count": null,
            "_view_module": "@jupyter-widgets/controls",
            "_view_module_version": "1.5.0",
            "_view_name": "HBoxView",
            "box_style": "",
            "children": [
              "IPY_MODEL_7c9d4f686ef64099868cf20ef5e277f7",
              "IPY_MODEL_65163e9891b74a5f88589a3c77423d32",
              "IPY_MODEL_0cb11bd00dce440c95749fc68697bfea"
            ],
            "layout": "IPY_MODEL_11c337c69b424b5883cb6ff18f600a4a"
          }
        },
        "7c9d4f686ef64099868cf20ef5e277f7": {
          "model_module": "@jupyter-widgets/controls",
          "model_name": "HTMLModel",
          "model_module_version": "1.5.0",
          "state": {
            "_dom_classes": [],
            "_model_module": "@jupyter-widgets/controls",
            "_model_module_version": "1.5.0",
            "_model_name": "HTMLModel",
            "_view_count": null,
            "_view_module": "@jupyter-widgets/controls",
            "_view_module_version": "1.5.0",
            "_view_name": "HTMLView",
            "description": "",
            "description_tooltip": null,
            "layout": "IPY_MODEL_6192d784023e44aca17c6960c318a089",
            "placeholder": "​",
            "style": "IPY_MODEL_448aaa6378654220b65655ae3541a145",
            "value": "Downloading: 100%"
          }
        },
        "65163e9891b74a5f88589a3c77423d32": {
          "model_module": "@jupyter-widgets/controls",
          "model_name": "FloatProgressModel",
          "model_module_version": "1.5.0",
          "state": {
            "_dom_classes": [],
            "_model_module": "@jupyter-widgets/controls",
            "_model_module_version": "1.5.0",
            "_model_name": "FloatProgressModel",
            "_view_count": null,
            "_view_module": "@jupyter-widgets/controls",
            "_view_module_version": "1.5.0",
            "_view_name": "ProgressView",
            "bar_style": "success",
            "description": "",
            "description_tooltip": null,
            "layout": "IPY_MODEL_b585fd1792fd464b850a1ac339be75aa",
            "max": 112,
            "min": 0,
            "orientation": "horizontal",
            "style": "IPY_MODEL_6b1bd9f3f5cb434cb80cb037166d48ab",
            "value": 112
          }
        },
        "0cb11bd00dce440c95749fc68697bfea": {
          "model_module": "@jupyter-widgets/controls",
          "model_name": "HTMLModel",
          "model_module_version": "1.5.0",
          "state": {
            "_dom_classes": [],
            "_model_module": "@jupyter-widgets/controls",
            "_model_module_version": "1.5.0",
            "_model_name": "HTMLModel",
            "_view_count": null,
            "_view_module": "@jupyter-widgets/controls",
            "_view_module_version": "1.5.0",
            "_view_name": "HTMLView",
            "description": "",
            "description_tooltip": null,
            "layout": "IPY_MODEL_bddccee1441947d3bd457dcf148f2665",
            "placeholder": "​",
            "style": "IPY_MODEL_1fe13d1674b341ecb2daf6d5b2a2129e",
            "value": " 112/112 [00:00&lt;00:00, 3.30kB/s]"
          }
        },
        "11c337c69b424b5883cb6ff18f600a4a": {
          "model_module": "@jupyter-widgets/base",
          "model_name": "LayoutModel",
          "model_module_version": "1.2.0",
          "state": {
            "_model_module": "@jupyter-widgets/base",
            "_model_module_version": "1.2.0",
            "_model_name": "LayoutModel",
            "_view_count": null,
            "_view_module": "@jupyter-widgets/base",
            "_view_module_version": "1.2.0",
            "_view_name": "LayoutView",
            "align_content": null,
            "align_items": null,
            "align_self": null,
            "border": null,
            "bottom": null,
            "display": null,
            "flex": null,
            "flex_flow": null,
            "grid_area": null,
            "grid_auto_columns": null,
            "grid_auto_flow": null,
            "grid_auto_rows": null,
            "grid_column": null,
            "grid_gap": null,
            "grid_row": null,
            "grid_template_areas": null,
            "grid_template_columns": null,
            "grid_template_rows": null,
            "height": null,
            "justify_content": null,
            "justify_items": null,
            "left": null,
            "margin": null,
            "max_height": null,
            "max_width": null,
            "min_height": null,
            "min_width": null,
            "object_fit": null,
            "object_position": null,
            "order": null,
            "overflow": null,
            "overflow_x": null,
            "overflow_y": null,
            "padding": null,
            "right": null,
            "top": null,
            "visibility": null,
            "width": null
          }
        },
        "6192d784023e44aca17c6960c318a089": {
          "model_module": "@jupyter-widgets/base",
          "model_name": "LayoutModel",
          "model_module_version": "1.2.0",
          "state": {
            "_model_module": "@jupyter-widgets/base",
            "_model_module_version": "1.2.0",
            "_model_name": "LayoutModel",
            "_view_count": null,
            "_view_module": "@jupyter-widgets/base",
            "_view_module_version": "1.2.0",
            "_view_name": "LayoutView",
            "align_content": null,
            "align_items": null,
            "align_self": null,
            "border": null,
            "bottom": null,
            "display": null,
            "flex": null,
            "flex_flow": null,
            "grid_area": null,
            "grid_auto_columns": null,
            "grid_auto_flow": null,
            "grid_auto_rows": null,
            "grid_column": null,
            "grid_gap": null,
            "grid_row": null,
            "grid_template_areas": null,
            "grid_template_columns": null,
            "grid_template_rows": null,
            "height": null,
            "justify_content": null,
            "justify_items": null,
            "left": null,
            "margin": null,
            "max_height": null,
            "max_width": null,
            "min_height": null,
            "min_width": null,
            "object_fit": null,
            "object_position": null,
            "order": null,
            "overflow": null,
            "overflow_x": null,
            "overflow_y": null,
            "padding": null,
            "right": null,
            "top": null,
            "visibility": null,
            "width": null
          }
        },
        "448aaa6378654220b65655ae3541a145": {
          "model_module": "@jupyter-widgets/controls",
          "model_name": "DescriptionStyleModel",
          "model_module_version": "1.5.0",
          "state": {
            "_model_module": "@jupyter-widgets/controls",
            "_model_module_version": "1.5.0",
            "_model_name": "DescriptionStyleModel",
            "_view_count": null,
            "_view_module": "@jupyter-widgets/base",
            "_view_module_version": "1.2.0",
            "_view_name": "StyleView",
            "description_width": ""
          }
        },
        "b585fd1792fd464b850a1ac339be75aa": {
          "model_module": "@jupyter-widgets/base",
          "model_name": "LayoutModel",
          "model_module_version": "1.2.0",
          "state": {
            "_model_module": "@jupyter-widgets/base",
            "_model_module_version": "1.2.0",
            "_model_name": "LayoutModel",
            "_view_count": null,
            "_view_module": "@jupyter-widgets/base",
            "_view_module_version": "1.2.0",
            "_view_name": "LayoutView",
            "align_content": null,
            "align_items": null,
            "align_self": null,
            "border": null,
            "bottom": null,
            "display": null,
            "flex": null,
            "flex_flow": null,
            "grid_area": null,
            "grid_auto_columns": null,
            "grid_auto_flow": null,
            "grid_auto_rows": null,
            "grid_column": null,
            "grid_gap": null,
            "grid_row": null,
            "grid_template_areas": null,
            "grid_template_columns": null,
            "grid_template_rows": null,
            "height": null,
            "justify_content": null,
            "justify_items": null,
            "left": null,
            "margin": null,
            "max_height": null,
            "max_width": null,
            "min_height": null,
            "min_width": null,
            "object_fit": null,
            "object_position": null,
            "order": null,
            "overflow": null,
            "overflow_x": null,
            "overflow_y": null,
            "padding": null,
            "right": null,
            "top": null,
            "visibility": null,
            "width": null
          }
        },
        "6b1bd9f3f5cb434cb80cb037166d48ab": {
          "model_module": "@jupyter-widgets/controls",
          "model_name": "ProgressStyleModel",
          "model_module_version": "1.5.0",
          "state": {
            "_model_module": "@jupyter-widgets/controls",
            "_model_module_version": "1.5.0",
            "_model_name": "ProgressStyleModel",
            "_view_count": null,
            "_view_module": "@jupyter-widgets/base",
            "_view_module_version": "1.2.0",
            "_view_name": "StyleView",
            "bar_color": null,
            "description_width": ""
          }
        },
        "bddccee1441947d3bd457dcf148f2665": {
          "model_module": "@jupyter-widgets/base",
          "model_name": "LayoutModel",
          "model_module_version": "1.2.0",
          "state": {
            "_model_module": "@jupyter-widgets/base",
            "_model_module_version": "1.2.0",
            "_model_name": "LayoutModel",
            "_view_count": null,
            "_view_module": "@jupyter-widgets/base",
            "_view_module_version": "1.2.0",
            "_view_name": "LayoutView",
            "align_content": null,
            "align_items": null,
            "align_self": null,
            "border": null,
            "bottom": null,
            "display": null,
            "flex": null,
            "flex_flow": null,
            "grid_area": null,
            "grid_auto_columns": null,
            "grid_auto_flow": null,
            "grid_auto_rows": null,
            "grid_column": null,
            "grid_gap": null,
            "grid_row": null,
            "grid_template_areas": null,
            "grid_template_columns": null,
            "grid_template_rows": null,
            "height": null,
            "justify_content": null,
            "justify_items": null,
            "left": null,
            "margin": null,
            "max_height": null,
            "max_width": null,
            "min_height": null,
            "min_width": null,
            "object_fit": null,
            "object_position": null,
            "order": null,
            "overflow": null,
            "overflow_x": null,
            "overflow_y": null,
            "padding": null,
            "right": null,
            "top": null,
            "visibility": null,
            "width": null
          }
        },
        "1fe13d1674b341ecb2daf6d5b2a2129e": {
          "model_module": "@jupyter-widgets/controls",
          "model_name": "DescriptionStyleModel",
          "model_module_version": "1.5.0",
          "state": {
            "_model_module": "@jupyter-widgets/controls",
            "_model_module_version": "1.5.0",
            "_model_name": "DescriptionStyleModel",
            "_view_count": null,
            "_view_module": "@jupyter-widgets/base",
            "_view_module_version": "1.2.0",
            "_view_name": "StyleView",
            "description_width": ""
          }
        }
      }
    }
  },
  "cells": [
    {
      "cell_type": "markdown",
      "metadata": {
        "id": "view-in-github",
        "colab_type": "text"
      },
      "source": [
        "<a href=\"https://colab.research.google.com/github/rinogrego/Multi-Class-Sentiment-Analysis-with-BERT-LSTM-CNN/blob/main/Multi-Class-Sentiment-Analysis-BERT-Hybrid-Deep-Learning.ipynb\" target=\"_parent\"><img src=\"https://colab.research.google.com/assets/colab-badge.svg\" alt=\"Open In Colab\"/></a>"
      ]
    },
    {
      "cell_type": "markdown",
      "source": [
        "# Package Installation and Import\n"
      ],
      "metadata": {
        "id": "urUg0AQMsNLI"
      }
    },
    {
      "cell_type": "code",
      "execution_count": null,
      "metadata": {
        "colab": {
          "base_uri": "https://localhost:8080/"
        },
        "id": "fqXKLB14kbPd",
        "outputId": "87fd740d-ffe7-4bfc-e332-cc81e4be086c"
      },
      "outputs": [
        {
          "output_type": "stream",
          "name": "stdout",
          "text": [
            "Looking in indexes: https://pypi.org/simple, https://us-python.pkg.dev/colab-wheels/public/simple/\n",
            "Collecting transformers\n",
            "  Downloading transformers-4.19.2-py3-none-any.whl (4.2 MB)\n",
            "\u001b[K     |████████████████████████████████| 4.2 MB 9.5 MB/s \n",
            "\u001b[?25hRequirement already satisfied: regex!=2019.12.17 in /usr/local/lib/python3.7/dist-packages (from transformers) (2019.12.20)\n",
            "Requirement already satisfied: importlib-metadata in /usr/local/lib/python3.7/dist-packages (from transformers) (4.11.4)\n",
            "Collecting pyyaml>=5.1\n",
            "  Downloading PyYAML-6.0-cp37-cp37m-manylinux_2_5_x86_64.manylinux1_x86_64.manylinux_2_12_x86_64.manylinux2010_x86_64.whl (596 kB)\n",
            "\u001b[K     |████████████████████████████████| 596 kB 63.4 MB/s \n",
            "\u001b[?25hCollecting tokenizers!=0.11.3,<0.13,>=0.11.1\n",
            "  Downloading tokenizers-0.12.1-cp37-cp37m-manylinux_2_12_x86_64.manylinux2010_x86_64.whl (6.6 MB)\n",
            "\u001b[K     |████████████████████████████████| 6.6 MB 58.0 MB/s \n",
            "\u001b[?25hRequirement already satisfied: numpy>=1.17 in /usr/local/lib/python3.7/dist-packages (from transformers) (1.21.6)\n",
            "Requirement already satisfied: requests in /usr/local/lib/python3.7/dist-packages (from transformers) (2.23.0)\n",
            "Requirement already satisfied: filelock in /usr/local/lib/python3.7/dist-packages (from transformers) (3.7.0)\n",
            "Requirement already satisfied: packaging>=20.0 in /usr/local/lib/python3.7/dist-packages (from transformers) (21.3)\n",
            "Collecting huggingface-hub<1.0,>=0.1.0\n",
            "  Downloading huggingface_hub-0.7.0-py3-none-any.whl (86 kB)\n",
            "\u001b[K     |████████████████████████████████| 86 kB 6.1 MB/s \n",
            "\u001b[?25hRequirement already satisfied: tqdm>=4.27 in /usr/local/lib/python3.7/dist-packages (from transformers) (4.64.0)\n",
            "Requirement already satisfied: typing-extensions>=3.7.4.3 in /usr/local/lib/python3.7/dist-packages (from huggingface-hub<1.0,>=0.1.0->transformers) (4.2.0)\n",
            "Requirement already satisfied: pyparsing!=3.0.5,>=2.0.2 in /usr/local/lib/python3.7/dist-packages (from packaging>=20.0->transformers) (3.0.9)\n",
            "Requirement already satisfied: zipp>=0.5 in /usr/local/lib/python3.7/dist-packages (from importlib-metadata->transformers) (3.8.0)\n",
            "Requirement already satisfied: chardet<4,>=3.0.2 in /usr/local/lib/python3.7/dist-packages (from requests->transformers) (3.0.4)\n",
            "Requirement already satisfied: certifi>=2017.4.17 in /usr/local/lib/python3.7/dist-packages (from requests->transformers) (2022.5.18.1)\n",
            "Requirement already satisfied: idna<3,>=2.5 in /usr/local/lib/python3.7/dist-packages (from requests->transformers) (2.10)\n",
            "Requirement already satisfied: urllib3!=1.25.0,!=1.25.1,<1.26,>=1.21.1 in /usr/local/lib/python3.7/dist-packages (from requests->transformers) (1.24.3)\n",
            "Installing collected packages: pyyaml, tokenizers, huggingface-hub, transformers\n",
            "  Attempting uninstall: pyyaml\n",
            "    Found existing installation: PyYAML 3.13\n",
            "    Uninstalling PyYAML-3.13:\n",
            "      Successfully uninstalled PyYAML-3.13\n",
            "Successfully installed huggingface-hub-0.7.0 pyyaml-6.0 tokenizers-0.12.1 transformers-4.19.2\n",
            "\u001b[K     |████████████████████████████████| 133 kB 7.3 MB/s \n",
            "\u001b[?25h"
          ]
        }
      ],
      "source": [
        "!pip install transformers\n",
        "\n",
        "!pip install -q -U keras-tuner"
      ]
    },
    {
      "cell_type": "code",
      "source": [
        "# Import modul yang akan dipakai\n",
        "import re\n",
        "import numpy as np\n",
        "import pandas as pd\n",
        "\n",
        "import tensorflow as tf\n",
        "from tensorflow import keras\n",
        "import matplotlib.pyplot as plt\n",
        "\n",
        "from sklearn.metrics import precision_score, recall_score, f1_score, accuracy_score, confusion_matrix, classification_report\n",
        "from sklearn.model_selection import train_test_split\n",
        "\n",
        "from imblearn.over_sampling import SMOTE\n",
        "from collections import Counter\n",
        "\n",
        "from transformers import AutoTokenizer, TFAutoModel\n",
        "from keras_tuner.tuners import BayesianOptimization\n",
        "import IPython"
      ],
      "metadata": {
        "id": "kLDrOdMisIwW"
      },
      "execution_count": null,
      "outputs": []
    },
    {
      "cell_type": "markdown",
      "source": [
        "# Data Pra-processing"
      ],
      "metadata": {
        "id": "aotYWwWGsK_8"
      }
    },
    {
      "cell_type": "code",
      "source": [
        "# Pendefinisian program untuk membersihkan data\n",
        "## Import kamus untuk mengubah singkatan\n",
        "kamus_alay = pd.read_csv('https://raw.githubusercontent.com/nasalsabila/kamus-alay/master/colloquial-indonesian-lexicon.csv')\n",
        "\n",
        "## Membuat dictionary untuk memetakan singkatan dari kata\n",
        "nor_dict = {}\n",
        "for index, row in kamus_alay.iterrows():\n",
        "    if row[0] not in nor_dict:\n",
        "        nor_dict[row[0]] = row[1]"
      ],
      "metadata": {
        "id": "liTTOAXEsJJX"
      },
      "execution_count": null,
      "outputs": []
    },
    {
      "cell_type": "code",
      "source": [
        "## Pembersihan data\n",
        "def clean_text(tweet):\n",
        "    # Mengubah semua huruf menjadi huruf kecil\n",
        "    tweet = tweet.lower()\n",
        "    # Menghapus www.* atau https?://*\n",
        "    tweet = re.sub('((www\\.[^\\s]+)|(https?://[^\\s]+))','',tweet)\n",
        "    # Menghapus @username\n",
        "    tweet = re.sub('@[^\\s]+','',tweet)\n",
        "    # Menghapus tanda #\n",
        "    tweet = re.sub(r'#([^\\s]+)', r'\\1', tweet)\n",
        "    # Menghapus tanda baca\n",
        "    tweet = re.sub(r'[^\\w\\s]',' ', tweet)\n",
        "    # Menghapus angka\n",
        "    tweet = re.sub(r'[\\d-]', '', tweet)\n",
        "    # Menghapus spasi berlebih\n",
        "    tweet = re.sub('[\\s]+', ' ', tweet)\n",
        "    # Menghapus tanda \\, ', dan \"\n",
        "    tweet = tweet.strip('\\'\"')\n",
        "    \n",
        "    # Pembersihan kata\n",
        "    words = tweet.split()\n",
        "    tokens=[]\n",
        "    for ww in words:\n",
        "        # Memisahkan kata berulang\n",
        "        for w in re.split(r'[-/\\s]\\s*', ww):\n",
        "            # Menghapus huruf berulang yang lebih dari dua kali\n",
        "            pattern = re.compile(r\"(.)\\1{1,}\", re.DOTALL)\n",
        "            w = pattern.sub(r\"\\1\\1\", w)\n",
        "            w = w.strip('\\'\"?,.')\n",
        "            # Memeriksa apakah suatu kata terbentuk dari minimal dua huruf\n",
        "            val = re.search(r\"^[a-zA-Z][a-zA-Z][a-zA-Z]*$\", w)\n",
        "            if w in nor_dict:\n",
        "                w = nor_dict[w]\n",
        "\n",
        "            if w == \"rt\" or val is None:\n",
        "                continue\n",
        "            else:\n",
        "                tokens.append(w.lower())\n",
        "    \n",
        "    tweet = \" \".join(tokens)  \n",
        "    return tweet"
      ],
      "metadata": {
        "id": "bkXc5olxsUdN"
      },
      "execution_count": null,
      "outputs": []
    },
    {
      "cell_type": "markdown",
      "source": [
        "# Lazada"
      ],
      "metadata": {
        "id": "fFopOON6oWeY"
      }
    },
    {
      "cell_type": "markdown",
      "source": [
        "## Read Dataset"
      ],
      "metadata": {
        "id": "k2aOPl6gGLiq"
      }
    },
    {
      "cell_type": "code",
      "source": [
        "LAZADA_PATH = 'Lazada.xlsx'\n",
        "# Graph Execution Error. Only use around 5200 observations out of around 6200\n",
        "lazada = pd.read_excel(LAZADA_PATH)[:-1000]\n",
        "lazada['review'] = lazada['review'].map(lambda x: clean_text(x))\n",
        "lazada = lazada[lazada['review'].apply(lambda x: len(x.split()) >=1)]\n",
        "\n",
        "## Drop unlabelled data if exists\n",
        "lazada = lazada[\n",
        "                    (lazada['senang'] != 0) |\n",
        "                    (lazada['antusias'] != 0) |\n",
        "                    (lazada['penasaran'] != 0) |\n",
        "                    (lazada['apatis'] != 0) |\n",
        "                    (lazada['kecewa'] != 0) |\n",
        "                    (lazada['kesal'] != 0)\n",
        "]\n",
        "\n",
        "## Retrieve X data\n",
        "lazada_data = lazada['review']\n",
        "lazada_label = lazada.drop(['review'], axis=1)"
      ],
      "metadata": {
        "id": "aZpT8IFisU_U"
      },
      "execution_count": null,
      "outputs": []
    },
    {
      "cell_type": "markdown",
      "source": [
        "## Show Example"
      ],
      "metadata": {
        "id": "TqiscPAqGYaq"
      }
    },
    {
      "cell_type": "code",
      "source": [
        "print(lazada_data.shape)\n",
        "print(lazada_label.shape)\n",
        "print()\n",
        "print(lazada_data[20])\n",
        "print(np.array(lazada_label)[20])"
      ],
      "metadata": {
        "colab": {
          "base_uri": "https://localhost:8080/"
        },
        "id": "kin86zxhGXxG",
        "outputId": "0fbb318e-eec0-4cc2-b881-5c2ef7c4d387"
      },
      "execution_count": null,
      "outputs": [
        {
          "output_type": "stream",
          "name": "stdout",
          "text": [
            "(5280,)\n",
            "(5280, 6)\n",
            "\n",
            "saya pengguna baru sih baru bulan orderan lumayan banyak karena aku onlineshop juga belum pernah mengecewakan selama berbelanja lazada barang realpict jadi ke konsumen nya juga senang dan mereka repeat order lagi tips biar barang selalu bikin puas realpict sesuai gambar harus pintar cari seller yang baik fast respon dan banyak konsumen yang kasih bintang itu tandanya seller amanah dan barang yang jual juga kualitasnya bagus sukses buat lazada\n",
            "[1. 0. 0. 0. 0. 0.]\n"
          ]
        }
      ]
    },
    {
      "cell_type": "markdown",
      "source": [
        "## Plot Sentiment Distribution"
      ],
      "metadata": {
        "id": "2OASsNSnGKJA"
      }
    },
    {
      "cell_type": "code",
      "source": [
        "counts = []\n",
        "lazada_labels = []\n",
        "for col in lazada_label.columns:\n",
        "  lazada_labels.append(col)\n",
        "  counts.append(lazada_label[lazada_label[col] == 1][col].count())\n",
        "  print(f'{col}:', lazada_label[lazada_label[col] == 1][col].count())\n",
        "\n",
        "plt.figure(figsize=(10, 8))\n",
        "plt.bar(lazada_labels, counts)\n",
        "\n",
        "xlocs, xlabs = plt.xticks()\n",
        "for i, v in enumerate(counts):\n",
        "    plt.text(xlocs[i] - 0.1, v + 10, str(v))"
      ],
      "metadata": {
        "colab": {
          "base_uri": "https://localhost:8080/",
          "height": 587
        },
        "id": "698PCdHNGQXH",
        "outputId": "35481ea3-a4d6-4d37-9f10-c49d33e42a0c"
      },
      "execution_count": null,
      "outputs": [
        {
          "output_type": "stream",
          "name": "stdout",
          "text": [
            "senang: 1205\n",
            "antusias: 499\n",
            "penasaran: 562\n",
            "apatis: 502\n",
            "kecewa: 1645\n",
            "kesal: 867\n"
          ]
        },
        {
          "output_type": "display_data",
          "data": {
            "text/plain": [
              "<Figure size 720x576 with 1 Axes>"
            ],
            "image/png": "[encoded data removed]"
          },
          "metadata": {
            "needs_background": "light"
          }
        }
      ]
    },
    {
      "cell_type": "markdown",
      "source": [
        "# Shopee"
      ],
      "metadata": {
        "id": "hn-LV1Z_ofDg"
      }
    },
    {
      "cell_type": "markdown",
      "source": [
        "## Read Dataset"
      ],
      "metadata": {
        "id": "VHkOS3bfGgqS"
      }
    },
    {
      "cell_type": "code",
      "source": [
        "SHOPEE_PATH = 'Shopee.xlsx'\n",
        "shopee = pd.read_excel(SHOPEE_PATH)\n",
        "\n",
        "shopee['review'] = shopee['review'].map(lambda x: clean_text(x))\n",
        "shopee = shopee[shopee['review'].apply(lambda x: len(x.split()) >=1)]\n",
        "\n",
        "## Drop unlabelled data if exists\n",
        "shopee = shopee[\n",
        "                    (shopee['senang'] != 0) |\n",
        "                    (shopee['antusias'] != 0) |\n",
        "                    (shopee['penasaran'] != 0) |\n",
        "                    (shopee['apatis'] != 0) |\n",
        "                    (shopee['kecewa'] != 0) |\n",
        "                    (shopee['kesal'] != 0)\n",
        "]\n",
        "\n",
        "## Retrieve X data\n",
        "shopee_data = shopee['review']\n",
        "shopee_label = shopee.drop(['review'], axis=1)"
      ],
      "metadata": {
        "id": "gMs_lXoioe4k"
      },
      "execution_count": null,
      "outputs": []
    },
    {
      "cell_type": "markdown",
      "source": [
        "## Show Example"
      ],
      "metadata": {
        "id": "zTfu6A-TGj-I"
      }
    },
    {
      "cell_type": "code",
      "source": [
        "print(shopee_data.shape)\n",
        "print(shopee_label.shape)\n",
        "print()\n",
        "print(shopee_data[20])\n",
        "print(np.array(shopee_label)[20])"
      ],
      "metadata": {
        "colab": {
          "base_uri": "https://localhost:8080/"
        },
        "id": "Hxv9njXlHEQw",
        "outputId": "ba9d03b9-e43b-4843-8a73-31f83b85fbb3"
      },
      "execution_count": null,
      "outputs": [
        {
          "output_type": "stream",
          "name": "stdout",
          "text": [
            "(4991,)\n",
            "(4991, 6)\n",
            "\n",
            "saya sudah di tipu oleh shopee dengan belanja cash di alfamart pada tanggal maret dengan pengiriman jasa jne tapi sampai saat ini barang tidak di kirim kan penipuan somoga ini jadi pelajaran bagi orang lain tolong tanggapi pihak shopee jangan makan uang haram\n",
            "[0. 0. 0. 0. 0. 1.]\n"
          ]
        }
      ]
    },
    {
      "cell_type": "markdown",
      "source": [
        "## Plot Sentiment Distribution"
      ],
      "metadata": {
        "id": "hFvmvRAUGmxZ"
      }
    },
    {
      "cell_type": "code",
      "source": [
        "counts = []\n",
        "shopee_labels = []\n",
        "for col in shopee_label.columns:\n",
        "  shopee_labels.append(col)\n",
        "  counts.append(shopee_label[shopee_label[col] == 1][col].count())\n",
        "  print(f'{col}:', shopee_label[shopee_label[col] == 1][col].count())\n",
        "\n",
        "plt.figure(figsize=(10, 8))\n",
        "plt.bar(shopee_labels, counts)\n",
        "\n",
        "xlocs, xlabs = plt.xticks()\n",
        "for i, v in enumerate(counts):\n",
        "    plt.text(xlocs[i] - 0.1, v + 10, str(v))"
      ],
      "metadata": {
        "colab": {
          "base_uri": "https://localhost:8080/",
          "height": 587
        },
        "id": "CAy0tIEQHB9I",
        "outputId": "eebc7a50-3ec7-4144-9355-c2373036002c"
      },
      "execution_count": null,
      "outputs": [
        {
          "output_type": "stream",
          "name": "stdout",
          "text": [
            "senang: 1610\n",
            "antusias: 463\n",
            "penasaran: 570\n",
            "apatis: 74\n",
            "kecewa: 773\n",
            "kesal: 1502\n"
          ]
        },
        {
          "output_type": "display_data",
          "data": {
            "text/plain": [
              "<Figure size 720x576 with 1 Axes>"
            ],
            "image/png": "[encoded data removed]"
          },
          "metadata": {
            "needs_background": "light"
          }
        }
      ]
    },
    {
      "cell_type": "markdown",
      "source": [
        "# Tokopedia"
      ],
      "metadata": {
        "id": "pW07fzHeoeoo"
      }
    },
    {
      "cell_type": "markdown",
      "source": [
        "## Read Dataset"
      ],
      "metadata": {
        "id": "_ym765YFGpKA"
      }
    },
    {
      "cell_type": "code",
      "source": [
        "TOKOPEDIA_PATH = 'Tokopedia.xlsx'\n",
        "tokopedia = pd.read_excel(TOKOPEDIA_PATH)\n",
        "\n",
        "tokopedia['review'] = tokopedia['review'].map(lambda x: clean_text(x))\n",
        "tokopedia = tokopedia[tokopedia['review'].apply(lambda x: len(x.split()) >=1)]\n",
        "\n",
        "## Drop unlabelled data if exists\n",
        "tokopedia = tokopedia[\n",
        "                    (tokopedia['senang'] != 0) |\n",
        "                    (tokopedia['antusias'] != 0) |\n",
        "                    (tokopedia['penasaran'] != 0) |\n",
        "                    (tokopedia['apatis'] != 0) |\n",
        "                    (tokopedia['kecewa'] != 0) |\n",
        "                    (tokopedia['kesal'] != 0)\n",
        "]\n",
        "\n",
        "## Retrieve X data\n",
        "tokopedia_data = tokopedia['review']\n",
        "tokopedia_label = tokopedia.drop(['review'], axis=1)"
      ],
      "metadata": {
        "id": "xkvigKeWoUNn"
      },
      "execution_count": null,
      "outputs": []
    },
    {
      "cell_type": "markdown",
      "source": [
        "## Show Example"
      ],
      "metadata": {
        "id": "AP1xcrhQGrQD"
      }
    },
    {
      "cell_type": "code",
      "source": [
        "print(tokopedia_data.shape)\n",
        "print(tokopedia_label.shape)\n",
        "print()\n",
        "print(tokopedia_data[20])\n",
        "print(np.array(tokopedia_label)[20])"
      ],
      "metadata": {
        "colab": {
          "base_uri": "https://localhost:8080/"
        },
        "id": "mbavqfuMGv3R",
        "outputId": "82a24ffb-561b-4b8b-af15-af48f76c70e7"
      },
      "execution_count": null,
      "outputs": [
        {
          "output_type": "stream",
          "name": "stdout",
          "text": [
            "(4360,)\n",
            "(4360, 6)\n",
            "\n",
            "ini bagaimana saya lagi transaksi gede kok app nya error kendala koneksi barang nya saya enggak tau sudah sampai mana di proses atau belum aduh masih mending kalo transaksi nya cuma ratusan rebu ini jutaan om di kirim pakai gosend pula bagaimana nih\n",
            "[0. 0. 0. 0. 0. 1.]\n"
          ]
        }
      ]
    },
    {
      "cell_type": "markdown",
      "source": [
        "## Plot Sentiment Distribution"
      ],
      "metadata": {
        "id": "-tbuwxUqG_FL"
      }
    },
    {
      "cell_type": "code",
      "source": [
        "counts = []\n",
        "tokopedia_labels = []\n",
        "for col in tokopedia_label.columns:\n",
        "  tokopedia_labels.append(col)\n",
        "  counts.append(tokopedia_label[tokopedia_label[col] == 1][col].count())\n",
        "  print(f'{col}:', tokopedia_label[tokopedia_label[col] == 1][col].count())\n",
        "\n",
        "plt.figure(figsize=(10, 8))\n",
        "plt.bar(tokopedia_labels, counts)\n",
        "\n",
        "xlocs, xlabs = plt.xticks()\n",
        "for i, v in enumerate(counts):\n",
        "    plt.text(xlocs[i] - 0.1, v + 10, str(v))"
      ],
      "metadata": {
        "colab": {
          "base_uri": "https://localhost:8080/",
          "height": 587
        },
        "id": "6IpCdppEG2yv",
        "outputId": "dc4006ad-ffe6-439d-c050-4a5faf4b4d4b"
      },
      "execution_count": null,
      "outputs": [
        {
          "output_type": "stream",
          "name": "stdout",
          "text": [
            "senang: 910\n",
            "antusias: 200\n",
            "penasaran: 898\n",
            "apatis: 671\n",
            "kecewa: 1280\n",
            "kesal: 401\n"
          ]
        },
        {
          "output_type": "display_data",
          "data": {
            "text/plain": [
              "<Figure size 720x576 with 1 Axes>"
            ],
            "image/png": "[encoded data removed]"
          },
          "metadata": {
            "needs_background": "light"
          }
        }
      ]
    },
    {
      "cell_type": "markdown",
      "source": [
        "# BERT Initialization"
      ],
      "metadata": {
        "id": "th6-KhFM2W4J"
      }
    },
    {
      "cell_type": "markdown",
      "source": [
        "## Installation"
      ],
      "metadata": {
        "id": "LC2XTIlV2cGx"
      }
    },
    {
      "cell_type": "code",
      "source": [
        "# Memnggil model dan tokenizer IndoBERT\n",
        "bert_model = TFAutoModel.from_pretrained(\"indobenchmark/indobert-base-p2\", trainable=False)\n",
        "bert_tokenizer = AutoTokenizer.from_pretrained(\"indobenchmark/indobert-base-p2\")"
      ],
      "metadata": {
        "colab": {
          "base_uri": "https://localhost:8080/",
          "height": 284,
          "referenced_widgets": [
            "3d5f0a9446334caea9954fde7375a71c",
            "0545077a82c2435d91a46837eeae8f43",
            "938e870a2a514a2e8ba5287b3e3379f2",
            "36caf94dbf3f44a3899825dab8abbd9d",
            "cd119dbc225541eebed62703c068d737",
            "ab5d32e32e2d4b7ba5cb21211936e51b",
            "1a48709aa6ae4092a79e2d425089bbfe",
            "95c2510bbf914e30be3c8259038e0832",
            "4cad0341d54d4c679561855c4c55e14d",
            "f086517ab91640f2b0f1056221bb7b1a",
            "cb77e797e4a4482e8dec3ef1a255b18e",
            "e73f489edd27421ab899961b70340925",
            "35e9c7392a2f474bb40ee1f4e444d7e3",
            "0397672fa9cb420d959acdfb1c307142",
            "63a45d7f45f74082a0989b45d5fa1606",
            "2d7d4363e3624a3982d10f6857facc51",
            "8345158151174b818763be7b3081cca9",
            "39cc362c76814dfb92c43dec507f27cb",
            "be07c196dadd4a9bbeec5ee90feb7ec9",
            "4304edd965184b16aca24557edcf9863",
            "3cef104b92a24b1991a3fa3d19c90a4e",
            "9dfcec71b88b40599bb9d2da0202f973",
            "afc43fe3055341b492460864bfe8afa6",
            "78a6c6ba33ae4171bd4baf3c56eea67f",
            "f67fa2ecb2e64e4c9f26be96fa1b7131",
            "a15de5b0912a450cb2abca7be47a0ab3",
            "128c9f232e2b4f198bb4a982f6b2dded",
            "b80d14eab015408e8bb8f945db7035c5",
            "302f0718d58f487db13b743a8e1a7252",
            "23bb3cd278fa4049870c60f140894f16",
            "6d7b26ba4beb45cd98e8d837a11e4147",
            "25a0eaf4f1d3469fb921f93d9a3559c7",
            "5180c785c50a43bf831803de0d694f7e",
            "44620a82eda4471694601c11ee12051f",
            "16c7671cc5434626a23ec98ef708785c",
            "75a2e030be3948719ee637703a04b1cf",
            "d294764cabe749019620174ca6eb0ac3",
            "2665f48766b34f6f92dfc0b8c14594c7",
            "27e8ec41aa9a4dd1907a89c758113be4",
            "88610701771f495bb78d359c7d1210fd",
            "af5be2144df646289aa73bc996e1b76c",
            "84e19368a5a24135a19c1c2436a45966",
            "2fb6d59de23b4000b43a078bc09ec5d1",
            "bc8dedabad82480e9cc8a62ac3cde268",
            "b76725b700574a4bb312a45c19110907",
            "7c9d4f686ef64099868cf20ef5e277f7",
            "65163e9891b74a5f88589a3c77423d32",
            "0cb11bd00dce440c95749fc68697bfea",
            "11c337c69b424b5883cb6ff18f600a4a",
            "6192d784023e44aca17c6960c318a089",
            "448aaa6378654220b65655ae3541a145",
            "b585fd1792fd464b850a1ac339be75aa",
            "6b1bd9f3f5cb434cb80cb037166d48ab",
            "bddccee1441947d3bd457dcf148f2665",
            "1fe13d1674b341ecb2daf6d5b2a2129e"
          ]
        },
        "id": "Qx10iT2D14bq",
        "outputId": "f84040ce-8f8a-4338-9b8d-a30cd05bcdfb"
      },
      "execution_count": null,
      "outputs": [
        {
          "output_type": "display_data",
          "data": {
            "text/plain": [
              "Downloading:   0%|          | 0.00/1.50k [00:00<?, ?B/s]"
            ],
            "application/vnd.jupyter.widget-view+json": {
              "version_major": 2,
              "version_minor": 0,
              "model_id": "3d5f0a9446334caea9954fde7375a71c"
            }
          },
          "metadata": {}
        },
        {
          "output_type": "display_data",
          "data": {
            "text/plain": [
              "Downloading:   0%|          | 0.00/625M [00:00<?, ?B/s]"
            ],
            "application/vnd.jupyter.widget-view+json": {
              "version_major": 2,
              "version_minor": 0,
              "model_id": "e73f489edd27421ab899961b70340925"
            }
          },
          "metadata": {}
        },
        {
          "output_type": "stream",
          "name": "stderr",
          "text": [
            "Some layers from the model checkpoint at indobenchmark/indobert-base-p2 were not used when initializing TFBertModel: ['mlm___cls', 'nsp___cls']\n",
            "- This IS expected if you are initializing TFBertModel from the checkpoint of a model trained on another task or with another architecture (e.g. initializing a BertForSequenceClassification model from a BertForPreTraining model).\n",
            "- This IS NOT expected if you are initializing TFBertModel from the checkpoint of a model that you expect to be exactly identical (initializing a BertForSequenceClassification model from a BertForSequenceClassification model).\n",
            "All the layers of TFBertModel were initialized from the model checkpoint at indobenchmark/indobert-base-p2.\n",
            "If your task is similar to the task the model of the checkpoint was trained on, you can already use TFBertModel for predictions without further training.\n"
          ]
        },
        {
          "output_type": "display_data",
          "data": {
            "text/plain": [
              "Downloading:   0%|          | 0.00/2.00 [00:00<?, ?B/s]"
            ],
            "application/vnd.jupyter.widget-view+json": {
              "version_major": 2,
              "version_minor": 0,
              "model_id": "afc43fe3055341b492460864bfe8afa6"
            }
          },
          "metadata": {}
        },
        {
          "output_type": "display_data",
          "data": {
            "text/plain": [
              "Downloading:   0%|          | 0.00/224k [00:00<?, ?B/s]"
            ],
            "application/vnd.jupyter.widget-view+json": {
              "version_major": 2,
              "version_minor": 0,
              "model_id": "44620a82eda4471694601c11ee12051f"
            }
          },
          "metadata": {}
        },
        {
          "output_type": "display_data",
          "data": {
            "text/plain": [
              "Downloading:   0%|          | 0.00/112 [00:00<?, ?B/s]"
            ],
            "application/vnd.jupyter.widget-view+json": {
              "version_major": 2,
              "version_minor": 0,
              "model_id": "b76725b700574a4bb312a45c19110907"
            }
          },
          "metadata": {}
        }
      ]
    },
    {
      "cell_type": "markdown",
      "source": [
        "## Tokenization"
      ],
      "metadata": {
        "id": "-6g_qFyJ2Z7y"
      }
    },
    {
      "cell_type": "code",
      "source": [
        "# Pendefinisian fungsi untuk melakukan tokenisasi pada satu data\n",
        "def tokenisasi(teks):\n",
        "      encode_dict = bert_tokenizer(teks,\n",
        "                                   add_special_tokens = True,\n",
        "                                   max_length = 128, #maximum token per kalimat = 125\n",
        "                                   padding = 'max_length',\n",
        "                                   truncation = True,\n",
        "                                   return_attention_mask = True,\n",
        "                                   return_tensors = 'tf',)\n",
        "\n",
        "      tokenID = encode_dict['input_ids']\n",
        "      attention_mask = encode_dict['attention_mask']\n",
        "\n",
        "      return tokenID, attention_mask"
      ],
      "metadata": {
        "id": "7IAfHqgV1-eH"
      },
      "execution_count": null,
      "outputs": []
    },
    {
      "cell_type": "code",
      "source": [
        "# Pendefinisian fungsi untuk mengambil hasil tokenisasi pada semua data\n",
        "def create_input(data):\n",
        "    tokenID, input_mask = [], []\n",
        "    for teks in data:\n",
        "        token, mask = tokenisasi(teks)\n",
        "        tokenID.append(token)\n",
        "        input_mask.append(mask)\n",
        "    \n",
        "    return [np.asarray(tokenID, dtype=np.int32).reshape(-1, 128), \n",
        "            np.asarray(input_mask, dtype=np.int32).reshape(-1, 128)]"
      ],
      "metadata": {
        "id": "dFdSFH3F2kDt"
      },
      "execution_count": null,
      "outputs": []
    },
    {
      "cell_type": "markdown",
      "source": [
        "# Train-Test Split"
      ],
      "metadata": {
        "id": "HJ59psit2ebs"
      }
    },
    {
      "cell_type": "code",
      "source": [
        "# Pick one\n",
        "data_train, data_test, label_train, label_test = train_test_split(lazada_data, lazada_label, test_size=0.2, random_state=7)\n",
        "# data_train, data_test, label_train, label_test = train_test_split(shopee_data, shopee_label, test_size=0.2, random_state=7)\n",
        "# data_train, data_test, label_train, label_test = train_test_split(tokopedia_data, tokopedia_label, test_size=0.2, random_state=7)"
      ],
      "metadata": {
        "id": "Z40Ieph1Fskc"
      },
      "execution_count": null,
      "outputs": []
    },
    {
      "cell_type": "code",
      "source": [
        "# Creating token ID and Mask for input\n",
        "X_train = create_input(data_train)\n",
        "X_test = create_input(data_test)\n",
        "\n",
        "print(X_train[0].shape, X_train[1].shape, label_train.shape)\n",
        "print(X_test[0].shape, X_test[1].shape, label_test.shape)"
      ],
      "metadata": {
        "colab": {
          "base_uri": "https://localhost:8080/"
        },
        "id": "sshs-HSBFtxB",
        "outputId": "9df93b28-6abb-4159-ef18-7a6c3a0c6e08"
      },
      "execution_count": null,
      "outputs": [
        {
          "output_type": "stream",
          "name": "stdout",
          "text": [
            "(4224, 128) (4224, 128) (4224, 6)\n",
            "(1056, 128) (1056, 128) (1056, 6)\n"
          ]
        }
      ]
    },
    {
      "cell_type": "markdown",
      "source": [
        "# Model Initialization"
      ],
      "metadata": {
        "id": "kJ1VLqDl3WcI"
      }
    },
    {
      "cell_type": "markdown",
      "source": [
        "## F1-Score Metrics Initialization"
      ],
      "metadata": {
        "id": "QKoyawzmXOrK"
      }
    },
    {
      "cell_type": "code",
      "source": [
        "from keras.wrappers.scikit_learn import KerasClassifier\n",
        "import keras.backend as K\n",
        "\n",
        "def get_f1(y_true, y_pred): # taken from old keras source code\n",
        "    true_positives = K.sum(K.round(K.clip(y_true * y_pred, 0, 1)))\n",
        "    possible_positives = K.sum(K.round(K.clip(y_true, 0, 1)))\n",
        "    predicted_positives = K.sum(K.round(K.clip(y_pred, 0, 1)))\n",
        "    precision = true_positives / (predicted_positives + K.epsilon())\n",
        "    recall = true_positives / (possible_positives + K.epsilon())\n",
        "    f1_val = 2*(precision*recall)/(precision+recall+K.epsilon())\n",
        "    return f1_val"
      ],
      "metadata": {
        "id": "Ama0FrWYXPMu"
      },
      "execution_count": null,
      "outputs": []
    },
    {
      "cell_type": "markdown",
      "source": [
        "## Model"
      ],
      "metadata": {
        "id": "gTsY6B4D4tra"
      }
    },
    {
      "cell_type": "code",
      "source": [
        "def model(hp):\n",
        "    #Input layer\n",
        "    input_token = keras.layers.Input(shape=(128,), dtype=np.int32,\n",
        "                                        name=\"input_token\")\n",
        "    input_mask = keras.layers.Input(shape=(128,), dtype=np.int32,\n",
        "                                   name=\"input_mask\")\n",
        "    \n",
        "    # Embedding\n",
        "    bert_embedding = bert_model([input_token, input_mask])[0]  \n",
        "\n",
        "    # LSTM layer\n",
        "    lstm = keras.layers.LSTM(units = hp.Int('units',\n",
        "                                             min_value = 100,\n",
        "                                             max_value = 200,\n",
        "                                             step = 50),\n",
        "                             kernel_regularizer=keras.regularizers.l2(hp.Choice('kernel_regularizer',\n",
        "                                                                                 values = [0.01, 0.001])),\n",
        "                             recurrent_regularizer=keras.regularizers.l2(hp.Choice('rec_regularizer',\n",
        "                                                                                    values = [0.01, 0.001])),\n",
        "                             return_sequences=True)(bert_embedding)\n",
        "\n",
        "    # Convolution layer\n",
        "    cnn = keras.layers.Conv1D(filters = hp.Int('filters',\n",
        "                                                min_value = 200, \n",
        "                                                max_value = 300, \n",
        "                                                step = 50),\n",
        "                              kernel_size = hp.Int('kernel_size',\n",
        "                                                min_value = 3, \n",
        "                                                max_value = 5, \n",
        "                                                step = 1),\n",
        "                              activation='relu',\n",
        "                              kernel_regularizer = keras.regularizers.l2(hp.Choice('kernel_cnn',\n",
        "                                                                                    values = [0.01, 0.001])))(lstm)\n",
        "                                                                                    \n",
        "    # Max Pooling layer\n",
        "    maxpool = keras.layers.GlobalMaxPooling1D()(cnn)\n",
        "\n",
        "    # Output layer\n",
        "    output = keras.layers.Dense(6, activation='softmax',\n",
        "                                kernel_regularizer=keras.regularizers.l2(hp.Choice('kernel_dense', values = [0.01, 0.001])))(maxpool)\n",
        "    model = keras.models.Model(inputs=[input_token, input_mask], outputs=output)\n",
        "\n",
        "    model.compile(optimizer = keras.optimizers.Adam(1e-3),\n",
        "                  loss ='categorical_crossentropy',\n",
        "                  metrics=['accuracy',\n",
        "                            keras.metrics.Precision(name='precision'),\n",
        "                            keras.metrics.Recall(name='recall'),\n",
        "                            get_f1])\n",
        "    \n",
        "    return model"
      ],
      "metadata": {
        "id": "ijI65qKp4wjI"
      },
      "execution_count": null,
      "outputs": []
    },
    {
      "cell_type": "markdown",
      "source": [
        "### Hyperparameter Tuning"
      ],
      "metadata": {
        "id": "3xJkTL5946Wh"
      }
    },
    {
      "cell_type": "code",
      "source": [
        "#Hyperparameter tuning\n",
        "tuner = BayesianOptimization(model,\n",
        "                             objective = 'val_accuracy', \n",
        "                             max_trials = 10,\n",
        "                             directory = '/content/results',\n",
        "                             project_name = 'Sentiment-Analysis-with-BERT-LSTM-CNN',\n",
        "                             overwrite = True)"
      ],
      "metadata": {
        "id": "nRUlxSTa47KL"
      },
      "execution_count": null,
      "outputs": []
    },
    {
      "cell_type": "markdown",
      "source": [
        "### Callback Initialization"
      ],
      "metadata": {
        "id": "saTzJwPY5Jtk"
      }
    },
    {
      "cell_type": "code",
      "source": [
        "# Pendefinisian Callback\n",
        "class ClearTrainingOutput(tf.keras.callbacks.Callback):\n",
        "    def on_train_end(*args, **kwargs):\n",
        "        IPython.display.clear_output(wait = True)\n",
        "\n",
        "early_stop = keras.callbacks.EarlyStopping(monitor='val_loss', patience=5)"
      ],
      "metadata": {
        "id": "uHT5v0he5Mq0"
      },
      "execution_count": null,
      "outputs": []
    },
    {
      "cell_type": "markdown",
      "source": [
        "### Tuner Search"
      ],
      "metadata": {
        "id": "CsImdhIj5OeU"
      }
    },
    {
      "cell_type": "code",
      "source": [
        "tuner.search(X_train, label_train,\n",
        "             batch_size=32, epochs=50,\n",
        "             validation_data=(X_test, label_test),\n",
        "             callbacks=[early_stop, ClearTrainingOutput()])"
      ],
      "metadata": {
        "id": "_BR6_u8_5PCF"
      },
      "execution_count": null,
      "outputs": []
    },
    {
      "cell_type": "markdown",
      "source": [
        "### Model Terbaik"
      ],
      "metadata": {
        "id": "qFKKcpza5QTX"
      }
    },
    {
      "cell_type": "code",
      "source": [
        "# Mendapatkan model terbaik\n",
        "model = tuner.get_best_models()[0]"
      ],
      "metadata": {
        "id": "9ErfzUJJ5RAU"
      },
      "execution_count": null,
      "outputs": []
    },
    {
      "cell_type": "markdown",
      "source": [
        "### Evaluasi Model"
      ],
      "metadata": {
        "id": "XWknCCle5SUH"
      }
    },
    {
      "cell_type": "code",
      "source": [
        "# Mendapatkan kinerja model\n",
        "y_pred = np.argmax(model.predict(X_test), axis=1)\n",
        "y = np.argmax(np.array(label_test), axis=1)\n",
        "print('accuracy: ', accuracy_score(y, y_pred), \n",
        "      '\\nprecision: ', precision_score(y, y_pred, average=None), \n",
        "      '\\nrecall: ', recall_score(y, y_pred, average=None),\n",
        "      '\\nf1-score: ', f1_score(y, y_pred, average=None))"
      ],
      "metadata": {
        "id": "r-OA5hvmXi36"
      },
      "execution_count": null,
      "outputs": []
    },
    {
      "cell_type": "code",
      "source": [
        "labels = ['senang', 'antusias', 'penasaran', 'apatis', 'kecewa', 'kesal']\n",
        "print(classification_report(y, y_pred, target_names=labels))"
      ],
      "metadata": {
        "id": "Bu2aYyZzobMq"
      },
      "execution_count": null,
      "outputs": []
    },
    {
      "cell_type": "code",
      "source": [
        ""
      ],
      "metadata": {
        "id": "PHIgwI_UGEca"
      },
      "execution_count": null,
      "outputs": []
    }
  ]
}